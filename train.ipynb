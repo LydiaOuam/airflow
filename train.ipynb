{
 "cells": [
  {
   "cell_type": "code",
   "execution_count": 21,
   "metadata": {},
   "outputs": [],
   "source": [
    "import pandas as pd \n",
    "from sklearn.model_selection import train_test_split\n",
    "from sklearn.ensemble import RandomForestClassifier\n",
    "from sklearn.metrics import accuracy_score\n",
    "from sklearn.preprocessing import OneHotEncoder\n",
    "import mlflow\n",
    "from mlflow import MlflowClient\n",
    "# Définir le nom de l'expérience MLflow"
   ]
  },
  {
   "cell_type": "code",
   "execution_count": 3,
   "metadata": {},
   "outputs": [
    {
     "name": "stderr",
     "output_type": "stream",
     "text": [
      "C:\\Users\\DELL INSPIROON\\AppData\\Local\\Temp\\ipykernel_2052\\4243231139.py:1: DtypeWarning: Columns (11,26,101,111,142,143,217,218) have mixed types. Specify dtype option on import or set low_memory=False.\n",
      "  df = pd.read_csv('dpe-v2-logements-neufs.csv')\n"
     ]
    }
   ],
   "source": [
    "df = pd.read_csv('dpe-v2-logements-neufs.csv')"
   ]
  },
  {
   "cell_type": "code",
   "execution_count": 4,
   "metadata": {},
   "outputs": [
    {
     "data": {
      "text/html": [
       "<div>\n",
       "<style scoped>\n",
       "    .dataframe tbody tr th:only-of-type {\n",
       "        vertical-align: middle;\n",
       "    }\n",
       "\n",
       "    .dataframe tbody tr th {\n",
       "        vertical-align: top;\n",
       "    }\n",
       "\n",
       "    .dataframe thead th {\n",
       "        text-align: right;\n",
       "    }\n",
       "</style>\n",
       "<table border=\"1\" class=\"dataframe\">\n",
       "  <thead>\n",
       "    <tr style=\"text-align: right;\">\n",
       "      <th></th>\n",
       "      <th>N°DPE</th>\n",
       "      <th>Date_réception_DPE</th>\n",
       "      <th>Date_établissement_DPE</th>\n",
       "      <th>Date_visite_diagnostiqueur</th>\n",
       "      <th>Modèle_DPE</th>\n",
       "      <th>N°_DPE_remplacé</th>\n",
       "      <th>Date_fin_validité_DPE</th>\n",
       "      <th>Version_DPE</th>\n",
       "      <th>N°_DPE_immeuble_associé</th>\n",
       "      <th>Appartement_non_visité_(0/1)</th>\n",
       "      <th>...</th>\n",
       "      <th>Présence_production_PV_(0/1)</th>\n",
       "      <th>Production_électricité_PV_kWh</th>\n",
       "      <th>Production_électricité_PV_kWh/m²</th>\n",
       "      <th>Surface_totale_capteurs_photovoltaïque</th>\n",
       "      <th>Nombre_module</th>\n",
       "      <th>Type_énergie_principale_chauffage</th>\n",
       "      <th>Type_énergie_principale_ECS</th>\n",
       "      <th>Déperditions_totales_logement</th>\n",
       "      <th>Déperditions_totales_bâtiment</th>\n",
       "      <th>Conso_5_usages_é_finale_énergie_n°1</th>\n",
       "    </tr>\n",
       "  </thead>\n",
       "  <tbody>\n",
       "    <tr>\n",
       "      <th>0</th>\n",
       "      <td>2133N0419762I</td>\n",
       "      <td>2021-09-30</td>\n",
       "      <td>2021-09-29</td>\n",
       "      <td>2021-09-29</td>\n",
       "      <td>DPE NEUF logement : RT2012</td>\n",
       "      <td>NaN</td>\n",
       "      <td>2031-09-28</td>\n",
       "      <td>1.0</td>\n",
       "      <td>NaN</td>\n",
       "      <td>0.0</td>\n",
       "      <td>...</td>\n",
       "      <td>NaN</td>\n",
       "      <td>NaN</td>\n",
       "      <td>NaN</td>\n",
       "      <td>NaN</td>\n",
       "      <td>NaN</td>\n",
       "      <td>NaN</td>\n",
       "      <td>NaN</td>\n",
       "      <td>NaN</td>\n",
       "      <td>NaN</td>\n",
       "      <td>2648.3</td>\n",
       "    </tr>\n",
       "    <tr>\n",
       "      <th>1</th>\n",
       "      <td>2262N1677399D</td>\n",
       "      <td>2022-07-22</td>\n",
       "      <td>2022-07-20</td>\n",
       "      <td>2022-07-20</td>\n",
       "      <td>DPE NEUF logement : RT2012</td>\n",
       "      <td>NaN</td>\n",
       "      <td>2032-07-19</td>\n",
       "      <td>2.1</td>\n",
       "      <td>NaN</td>\n",
       "      <td>0.0</td>\n",
       "      <td>...</td>\n",
       "      <td>NaN</td>\n",
       "      <td>NaN</td>\n",
       "      <td>NaN</td>\n",
       "      <td>NaN</td>\n",
       "      <td>NaN</td>\n",
       "      <td>Électricité</td>\n",
       "      <td>NaN</td>\n",
       "      <td>NaN</td>\n",
       "      <td>NaN</td>\n",
       "      <td>1974.1</td>\n",
       "    </tr>\n",
       "    <tr>\n",
       "      <th>2</th>\n",
       "      <td>2333N0960129T</td>\n",
       "      <td>2023-03-22</td>\n",
       "      <td>2023-03-21</td>\n",
       "      <td>2023-03-21</td>\n",
       "      <td>DPE NEUF logement : RT2012</td>\n",
       "      <td>NaN</td>\n",
       "      <td>2033-03-20</td>\n",
       "      <td>2.2</td>\n",
       "      <td>NaN</td>\n",
       "      <td>NaN</td>\n",
       "      <td>...</td>\n",
       "      <td>NaN</td>\n",
       "      <td>NaN</td>\n",
       "      <td>NaN</td>\n",
       "      <td>NaN</td>\n",
       "      <td>NaN</td>\n",
       "      <td>Électricité</td>\n",
       "      <td>NaN</td>\n",
       "      <td>NaN</td>\n",
       "      <td>NaN</td>\n",
       "      <td>1891.4</td>\n",
       "    </tr>\n",
       "    <tr>\n",
       "      <th>3</th>\n",
       "      <td>2474N0961053X</td>\n",
       "      <td>2024-03-16</td>\n",
       "      <td>2024-03-15</td>\n",
       "      <td>2024-03-14</td>\n",
       "      <td>DPE NEUF logement : RT2012</td>\n",
       "      <td>NaN</td>\n",
       "      <td>2034-03-14</td>\n",
       "      <td>2.3</td>\n",
       "      <td>NaN</td>\n",
       "      <td>NaN</td>\n",
       "      <td>...</td>\n",
       "      <td>NaN</td>\n",
       "      <td>NaN</td>\n",
       "      <td>NaN</td>\n",
       "      <td>NaN</td>\n",
       "      <td>NaN</td>\n",
       "      <td>Électricité</td>\n",
       "      <td>NaN</td>\n",
       "      <td>NaN</td>\n",
       "      <td>NaN</td>\n",
       "      <td>2887.5</td>\n",
       "    </tr>\n",
       "    <tr>\n",
       "      <th>4</th>\n",
       "      <td>2317N4122363N</td>\n",
       "      <td>2023-12-01</td>\n",
       "      <td>2023-11-11</td>\n",
       "      <td>2023-11-11</td>\n",
       "      <td>DPE NEUF logement : RT2012</td>\n",
       "      <td>2317N4121938E</td>\n",
       "      <td>2033-11-10</td>\n",
       "      <td>2.3</td>\n",
       "      <td>NaN</td>\n",
       "      <td>0.0</td>\n",
       "      <td>...</td>\n",
       "      <td>NaN</td>\n",
       "      <td>NaN</td>\n",
       "      <td>NaN</td>\n",
       "      <td>NaN</td>\n",
       "      <td>NaN</td>\n",
       "      <td>Électricité</td>\n",
       "      <td>NaN</td>\n",
       "      <td>NaN</td>\n",
       "      <td>NaN</td>\n",
       "      <td>1300.3</td>\n",
       "    </tr>\n",
       "  </tbody>\n",
       "</table>\n",
       "<p>5 rows × 220 columns</p>\n",
       "</div>"
      ],
      "text/plain": [
       "           N°DPE Date_réception_DPE Date_établissement_DPE  \\\n",
       "0  2133N0419762I         2021-09-30             2021-09-29   \n",
       "1  2262N1677399D         2022-07-22             2022-07-20   \n",
       "2  2333N0960129T         2023-03-22             2023-03-21   \n",
       "3  2474N0961053X         2024-03-16             2024-03-15   \n",
       "4  2317N4122363N         2023-12-01             2023-11-11   \n",
       "\n",
       "  Date_visite_diagnostiqueur                  Modèle_DPE N°_DPE_remplacé  \\\n",
       "0                 2021-09-29  DPE NEUF logement : RT2012             NaN   \n",
       "1                 2022-07-20  DPE NEUF logement : RT2012             NaN   \n",
       "2                 2023-03-21  DPE NEUF logement : RT2012             NaN   \n",
       "3                 2024-03-14  DPE NEUF logement : RT2012             NaN   \n",
       "4                 2023-11-11  DPE NEUF logement : RT2012   2317N4121938E   \n",
       "\n",
       "  Date_fin_validité_DPE  Version_DPE N°_DPE_immeuble_associé  \\\n",
       "0            2031-09-28          1.0                     NaN   \n",
       "1            2032-07-19          2.1                     NaN   \n",
       "2            2033-03-20          2.2                     NaN   \n",
       "3            2034-03-14          2.3                     NaN   \n",
       "4            2033-11-10          2.3                     NaN   \n",
       "\n",
       "   Appartement_non_visité_(0/1)  ... Présence_production_PV_(0/1)  \\\n",
       "0                           0.0  ...                          NaN   \n",
       "1                           0.0  ...                          NaN   \n",
       "2                           NaN  ...                          NaN   \n",
       "3                           NaN  ...                          NaN   \n",
       "4                           0.0  ...                          NaN   \n",
       "\n",
       "  Production_électricité_PV_kWh  Production_électricité_PV_kWh/m²  \\\n",
       "0                           NaN                               NaN   \n",
       "1                           NaN                               NaN   \n",
       "2                           NaN                               NaN   \n",
       "3                           NaN                               NaN   \n",
       "4                           NaN                               NaN   \n",
       "\n",
       "  Surface_totale_capteurs_photovoltaïque Nombre_module  \\\n",
       "0                                    NaN           NaN   \n",
       "1                                    NaN           NaN   \n",
       "2                                    NaN           NaN   \n",
       "3                                    NaN           NaN   \n",
       "4                                    NaN           NaN   \n",
       "\n",
       "  Type_énergie_principale_chauffage Type_énergie_principale_ECS  \\\n",
       "0                               NaN                         NaN   \n",
       "1                       Électricité                         NaN   \n",
       "2                       Électricité                         NaN   \n",
       "3                       Électricité                         NaN   \n",
       "4                       Électricité                         NaN   \n",
       "\n",
       "  Déperditions_totales_logement Déperditions_totales_bâtiment  \\\n",
       "0                           NaN                           NaN   \n",
       "1                           NaN                           NaN   \n",
       "2                           NaN                           NaN   \n",
       "3                           NaN                           NaN   \n",
       "4                           NaN                           NaN   \n",
       "\n",
       "   Conso_5_usages_é_finale_énergie_n°1  \n",
       "0                               2648.3  \n",
       "1                               1974.1  \n",
       "2                               1891.4  \n",
       "3                               2887.5  \n",
       "4                               1300.3  \n",
       "\n",
       "[5 rows x 220 columns]"
      ]
     },
     "execution_count": 4,
     "metadata": {},
     "output_type": "execute_result"
    }
   ],
   "source": [
    "df.head()"
   ]
  },
  {
   "cell_type": "code",
   "execution_count": 5,
   "metadata": {},
   "outputs": [
    {
     "name": "stdout",
     "output_type": "stream",
     "text": [
      "N°DPE\n",
      "Date_réception_DPE\n",
      "Date_établissement_DPE\n",
      "Date_visite_diagnostiqueur\n",
      "Modèle_DPE\n",
      "N°_DPE_remplacé\n",
      "Date_fin_validité_DPE\n",
      "Version_DPE\n",
      "N°_DPE_immeuble_associé\n",
      "Appartement_non_visité_(0/1)\n",
      "Méthode_application_DPE\n",
      "N°_immatriculation_copropriété\n",
      "N°_RPLS_logement\n",
      "Invariant_fiscal_logement\n",
      "Etiquette_DPE\n",
      "Etiquette_GES\n",
      "Type_bâtiment\n",
      "Type_installation_chauffage\n",
      "Type_installation_ECS_(général)\n",
      "Hauteur_sous-plafond\n",
      "Nombre_appartement\n",
      "Nombre_niveau_immeuble\n",
      "Nombre_niveau_logement\n",
      "Surface_habitable_immeuble\n",
      "Surface_tertiaire_immeuble\n",
      "Surface_habitable_logement\n",
      "Classe_inertie_bâtiment\n",
      "Typologie_logement\n",
      "Position_logement_dans_immeuble\n",
      "Classe_altitude\n",
      "Zone_climatique_\n",
      "Adresse_brute\n",
      "Nom__commune_(BAN)\n",
      "Code_INSEE_(BAN)\n",
      "N°_voie_(BAN)\n",
      "Identifiant__BAN\n",
      "Adresse_(BAN)\n",
      "Code_postal_(BAN)\n",
      "Score_BAN\n",
      "Nom__rue_(BAN)\n",
      "Coordonnée_cartographique_X_(BAN)\n",
      "Coordonnée_cartographique_Y_(BAN)\n",
      "Code_postal_(brut)\n",
      "N°_étage_appartement\n",
      "Nom_résidence\n",
      "Complément_d'adresse_bâtiment\n",
      "Cage_d'escalier\n",
      "Complément_d'adresse_logement\n",
      "Statut_géocodage\n",
      "Nom__commune_(Brut)\n",
      "N°_département_(BAN)\n",
      "N°_région_(BAN)\n",
      "Conso_5_usages_é_finale\n",
      "Conso_5_usages/m²_é_finale\n",
      "Conso_chauffage_é_finale\n",
      "Conso_chauffage_dépensier_é_finale\n",
      "Conso_éclairage_é_finale\n",
      "Conso_ECS_é_finale\n",
      "Conso_ECS_dépensier_é_finale\n",
      "Conso_refroidissement_é_finale\n",
      "Conso_refroidissement_dépensier_é_finale\n",
      "Conso_auxiliaires_é_finale\n",
      "Conso_5_usages_é_primaire\n",
      "Conso_5_usages_par_m²_é_primaire\n",
      "Conso_chauffage_é_primaire\n",
      "Conso_chauffage_dépensier_é_primaire\n",
      "Conso_éclairage_é_primaire\n",
      "Conso_ECS_é_primaire\n",
      "Conso_ECS_dépensier_é_primaire\n",
      "Conso_refroidissement_é_primaire\n",
      "Conso_refroidissement_dépensier_é_primaire\n",
      "Conso_auxiliaires_é_primaire\n",
      "Emission_GES_5_usages\n",
      "Emission_GES_5_usages_par_m²\n",
      "Emission_GES_chauffage\n",
      "Emission_GES_chauffage_dépensier\n",
      "Emission_GES_éclairage\n",
      "Emission_GES_ECS\n",
      "Emission_GES_ECS_dépensier\n",
      "Emission_GES_refroidissement\n",
      "Emission_GES_refroidissement_dépensier\n",
      "Emission_GES_auxiliaires\n",
      "Conso_5_usages_énergie_n°1\n",
      "Conso_chauffage_énergie_n°1\n",
      "Conso_ECS_énergie_n°1\n",
      "Coût_5_usages_énergie_n°1\n",
      "Coût_chauffage_énergie_n°1\n",
      "Coût_ECS_énergie_n°1\n",
      "Emission_GES_5_usages_énergie_n°1\n",
      "Emission_GES_chauffage_par_énergie_n°1\n",
      "Emission_GES_ECS_par_énergie_n°1\n",
      "Type_énergie_n°1\n",
      "Conso_5_usages_énergie_n°2\n",
      "Conso_chauffage_énergie_n°2\n",
      "Conso_ECS_énergie_n°2\n",
      "Coût_5_usages_énergie_n°2\n",
      "Coût_chauffage_énergie_n°2\n",
      "Coût_ECS_énergie_n°2\n",
      "Emission_GES_5_usages_énergie_n°2\n",
      "Emission_GES_chauffage_par_énergie_n°2\n",
      "Emission_GES_ECS_par_énergie_n°2\n",
      "Type_énergie_n°2\n",
      "Conso_5_usages_énergie_n°3\n",
      "Conso_chauffage_énergie_n°3\n",
      "Conso_ECS_énergie_n°3\n",
      "Coût_5_usages_énergie_n°3\n",
      "Coût_chauffage_énergie_n°3\n",
      "Coût_ECS_énergie_n°3\n",
      "Emission_GES_5_usages_énergie_n°3\n",
      "Emission_GES_chauffage_par_énergie_n°3\n",
      "Emission_GES_ECS_par_énergie_n°3\n",
      "Type_énergie_n°3\n",
      "Coût_total_5_usages\n",
      "Coût_chauffage\n",
      "Coût_chauffage_dépensier\n",
      "Coût_éclairage\n",
      "Coût_ECS_dépensier\n",
      "Coût_ECS\n",
      "Coût_refroidissement\n",
      "Coût_refroidissement_dépensier\n",
      "Coût_auxiliaires\n",
      "Logement_traversant_(0/1)\n",
      "Présence_brasseur_air_(0/1)\n",
      "Indicateur_confort_été\n",
      "Isolation_toiture_(0/1)\n",
      "Protection_solaire_exterieure_(0/1)\n",
      "Inertie_lourde_(0/1)\n",
      "Deperditions_baies_vitrées\n",
      "Deperditions_enveloppe\n",
      "Déperditions_murs\n",
      "Deperditions_planchers_bas\n",
      "Deperditions_planchers_hauts\n",
      "Déperditions_ponts_thermiques\n",
      "Déperditions_portes\n",
      "Déperditions_renouvellement_air\n",
      "Qualité_isolation_enveloppe\n",
      "Qualité_isolation_menuiseries\n",
      "Qualité_isolation_murs\n",
      "Qualité_isolation_plancher_bas\n",
      "Ubat_W/m²_K\n",
      "Qualité_isolation_plancher_haut_comble_aménagé\n",
      "Besoin_chauffage\n",
      "Besoin_ECS\n",
      "Besoin_refroidissement\n",
      "Conso_chauffage_installation_chauffage_n°1\n",
      "Description_installation_chauffage_n°1\n",
      "Configuration_installation_chauffage_n°1\n",
      "Type_installation_chauffage_n°1\n",
      "Surface_chauffée_installation_chauffage_n°1\n",
      "Type_émetteur_installation_chauffage_n°1\n",
      "Conso_chauffage_générateur_n°1_installation_n°1\n",
      "Type_générateur_n°2_installation_n°1\n",
      "Conso_chauffage_dépensier_générateur_n°1_installation_n°1\n",
      "Type_énergie_générateur_n°1_installation_n°1\n",
      "Type_générateur_n°1_installation_n°1\n",
      "Usage_générateur_n°1_installation_n°1\n",
      "Conso_chauffage_générateur_n°2_installation_n°1\n",
      "Conso_chauffage_dépensier_générateur_n°2_installation_n°1\n",
      "Type_énergie_générateur_n°2_installation_n°1\n",
      "Usage_générateur_n°2_installation_n°1\n",
      "Conso_chauffage_installation_chauffage_n°2\n",
      "Description_installation_chauffage_n°2\n",
      "Configuration_installation_chauffage_n°2\n",
      "Type_installation_chauffage_n°2\n",
      "Surface_chauffée_installation_chauffage_n°2\n",
      "Type_émetteur_installation_chauffage_n°2\n",
      "Conso_chauffage_générateur_n°1_installation_n°2\n",
      "Conso_chauffage_dépensier_générateur_n°1_installation_n°2\n",
      "Type_énergie_générateur_n°1_installation_n°2\n",
      "Type_générateur_n°1_installation_n°2\n",
      "Usage_générateur_n°1_installation_n°2\n",
      "Conso_chauffage_générateur_n°2_installation_n°2\n",
      "Conso_chauffage_dépensier_générateur_n°2_installation_n°2\n",
      "Type_énergie_générateur_n°2_installation_n°2\n",
      "Type_générateur_n°2_installation_n°2\n",
      "Usage_générateur_n°2_installation_n°2\n",
      "Clé_répartition_chauffage\n",
      "Conso_é_finale_installation_ECS\n",
      "Description_installation_ECS\n",
      "Configuration_installation_ECS\n",
      "Type_installation_ECS\n",
      "Type_installation_solaire\n",
      "Nombre_logements_desservis_par_installation_ECS\n",
      "Production_ecs_solaire_installation\n",
      "Surface_habitable_desservie_par_installation_ECS\n",
      "Conso_é_finale_générateur_ECS_n°1\n",
      "COP_générateur_ECS_n°1\n",
      "Description_générateur_ECS_n°1\n",
      "Type_énergie_générateur_ECS_n°1\n",
      "Type_générateur_ECS_n°1\n",
      "Usage_générateur_ECS_n°1\n",
      "Volume_stockage_générateur_ECS_n°1\n",
      "Conso_é_finale_générateur_ECS_n°2\n",
      "COP_générateur_ECS_n°2\n",
      "Description_générateur_ECS_n°2\n",
      "Type_énergie_générateur_ECS_n°2\n",
      "Type_générateur_ECS_n°2\n",
      "Usage_générateur_ECS_n°2\n",
      "Volume_stockage_générateur_ECS_n°2\n",
      "Type_ventilation\n",
      "Surface_ventilée\n",
      "Ventilation_postérieure_2012_(0/1)\n",
      "Besoin_refroidissement_annuel\n",
      "Conso_refroidissement_annuel\n",
      "Description_générateur_froid\n",
      "Type_générateur_froid\n",
      "Surface_climatisée\n",
      "Catégorie_ENR\n",
      "Electricité_PV_autoconsommée\n",
      "Système_production_électricité_origine_renouvelable\n",
      "Présence_production_PV_(0/1)\n",
      "Production_électricité_PV_kWh\n",
      "Production_électricité_PV_kWh/m²\n",
      "Surface_totale_capteurs_photovoltaïque\n",
      "Nombre_module\n",
      "Type_énergie_principale_chauffage\n",
      "Type_énergie_principale_ECS\n",
      "Déperditions_totales_logement\n",
      "Déperditions_totales_bâtiment\n",
      "Conso_5_usages_é_finale_énergie_n°1\n"
     ]
    }
   ],
   "source": [
    "for colonne in df.columns:\n",
    "    print(colonne)"
   ]
  },
  {
   "cell_type": "code",
   "execution_count": 6,
   "metadata": {},
   "outputs": [
    {
     "data": {
      "text/plain": [
       "(783116, 220)"
      ]
     },
     "execution_count": 6,
     "metadata": {},
     "output_type": "execute_result"
    }
   ],
   "source": [
    "df.shape"
   ]
  },
  {
   "cell_type": "code",
   "execution_count": 7,
   "metadata": {},
   "outputs": [],
   "source": [
    "df=df.drop_duplicates()"
   ]
  },
  {
   "cell_type": "code",
   "execution_count": 143,
   "metadata": {},
   "outputs": [],
   "source": [
    "new_df = df[[ 'Date_réception_DPE', 'Modèle_DPE','N°_DPE_remplacé','Date_fin_validité_DPE' ,'Version_DPE', 'N°_DPE_immeuble_associé', 'Invariant_fiscal_logement','Etiquette_DPE','Etiquette_GES','Type_bâtiment' ]]"
   ]
  },
  {
   "cell_type": "code",
   "execution_count": 144,
   "metadata": {},
   "outputs": [
    {
     "data": {
      "text/plain": [
       "Date_réception_DPE            object\n",
       "Modèle_DPE                    object\n",
       "N°_DPE_remplacé               object\n",
       "Date_fin_validité_DPE         object\n",
       "Version_DPE                  float64\n",
       "N°_DPE_immeuble_associé       object\n",
       "Invariant_fiscal_logement     object\n",
       "Etiquette_DPE                 object\n",
       "Etiquette_GES                 object\n",
       "Type_bâtiment                 object\n",
       "dtype: object"
      ]
     },
     "execution_count": 144,
     "metadata": {},
     "output_type": "execute_result"
    }
   ],
   "source": [
    "new_df.dtypes"
   ]
  },
  {
   "cell_type": "code",
   "execution_count": 145,
   "metadata": {},
   "outputs": [
    {
     "data": {
      "text/plain": [
       "(783116, 10)"
      ]
     },
     "execution_count": 145,
     "metadata": {},
     "output_type": "execute_result"
    }
   ],
   "source": [
    "new_df.shape\n"
   ]
  },
  {
   "cell_type": "code",
   "execution_count": 146,
   "metadata": {},
   "outputs": [
    {
     "data": {
      "text/plain": [
       "Date_réception_DPE                0\n",
       "Modèle_DPE                        0\n",
       "N°_DPE_remplacé              753245\n",
       "Date_fin_validité_DPE             0\n",
       "Version_DPE                       0\n",
       "N°_DPE_immeuble_associé      579949\n",
       "Invariant_fiscal_logement    760369\n",
       "Etiquette_DPE                     0\n",
       "Etiquette_GES                     0\n",
       "Type_bâtiment                     0\n",
       "dtype: int64"
      ]
     },
     "execution_count": 146,
     "metadata": {},
     "output_type": "execute_result"
    }
   ],
   "source": [
    "new_df.isnull().sum()\n"
   ]
  },
  {
   "cell_type": "code",
   "execution_count": 147,
   "metadata": {},
   "outputs": [
    {
     "name": "stderr",
     "output_type": "stream",
     "text": [
      "C:\\Users\\DELL INSPIROON\\AppData\\Local\\Temp\\ipykernel_2052\\4132104531.py:2: SettingWithCopyWarning: \n",
      "A value is trying to be set on a copy of a slice from a DataFrame.\n",
      "Try using .loc[row_indexer,col_indexer] = value instead\n",
      "\n",
      "See the caveats in the documentation: https://pandas.pydata.org/pandas-docs/stable/user_guide/indexing.html#returning-a-view-versus-a-copy\n",
      "  new_df['N°_DPE_remplacé'] = pd.to_numeric(new_df['N°_DPE_remplacé'], errors='coerce').fillna(-1)\n",
      "C:\\Users\\DELL INSPIROON\\AppData\\Local\\Temp\\ipykernel_2052\\4132104531.py:3: SettingWithCopyWarning: \n",
      "A value is trying to be set on a copy of a slice from a DataFrame.\n",
      "Try using .loc[row_indexer,col_indexer] = value instead\n",
      "\n",
      "See the caveats in the documentation: https://pandas.pydata.org/pandas-docs/stable/user_guide/indexing.html#returning-a-view-versus-a-copy\n",
      "  new_df['N°_DPE_immeuble_associé'] = pd.to_numeric(new_df['N°_DPE_immeuble_associé'], errors='coerce').fillna(-1)\n",
      "C:\\Users\\DELL INSPIROON\\AppData\\Local\\Temp\\ipykernel_2052\\4132104531.py:4: SettingWithCopyWarning: \n",
      "A value is trying to be set on a copy of a slice from a DataFrame.\n",
      "Try using .loc[row_indexer,col_indexer] = value instead\n",
      "\n",
      "See the caveats in the documentation: https://pandas.pydata.org/pandas-docs/stable/user_guide/indexing.html#returning-a-view-versus-a-copy\n",
      "  new_df['Invariant_fiscal_logement'] = pd.to_numeric(new_df['Invariant_fiscal_logement'], errors='coerce').fillna(-1)\n",
      "C:\\Users\\DELL INSPIROON\\AppData\\Local\\Temp\\ipykernel_2052\\4132104531.py:6: SettingWithCopyWarning: \n",
      "A value is trying to be set on a copy of a slice from a DataFrame.\n",
      "Try using .loc[row_indexer,col_indexer] = value instead\n",
      "\n",
      "See the caveats in the documentation: https://pandas.pydata.org/pandas-docs/stable/user_guide/indexing.html#returning-a-view-versus-a-copy\n",
      "  new_df['N°_DPE_remplacé'] = new_df['N°_DPE_remplacé'].astype(float)\n",
      "C:\\Users\\DELL INSPIROON\\AppData\\Local\\Temp\\ipykernel_2052\\4132104531.py:7: SettingWithCopyWarning: \n",
      "A value is trying to be set on a copy of a slice from a DataFrame.\n",
      "Try using .loc[row_indexer,col_indexer] = value instead\n",
      "\n",
      "See the caveats in the documentation: https://pandas.pydata.org/pandas-docs/stable/user_guide/indexing.html#returning-a-view-versus-a-copy\n",
      "  new_df['N°_DPE_immeuble_associé'] = new_df['N°_DPE_immeuble_associé'].astype(float)\n",
      "C:\\Users\\DELL INSPIROON\\AppData\\Local\\Temp\\ipykernel_2052\\4132104531.py:8: SettingWithCopyWarning: \n",
      "A value is trying to be set on a copy of a slice from a DataFrame.\n",
      "Try using .loc[row_indexer,col_indexer] = value instead\n",
      "\n",
      "See the caveats in the documentation: https://pandas.pydata.org/pandas-docs/stable/user_guide/indexing.html#returning-a-view-versus-a-copy\n",
      "  new_df['Invariant_fiscal_logement'] = new_df['Invariant_fiscal_logement'].astype(float)\n"
     ]
    }
   ],
   "source": [
    "# Remplacer les valeurs non numériques par -1\n",
    "new_df['N°_DPE_remplacé'] = pd.to_numeric(new_df['N°_DPE_remplacé'], errors='coerce').fillna(-1)\n",
    "new_df['N°_DPE_immeuble_associé'] = pd.to_numeric(new_df['N°_DPE_immeuble_associé'], errors='coerce').fillna(-1)\n",
    "new_df['Invariant_fiscal_logement'] = pd.to_numeric(new_df['Invariant_fiscal_logement'], errors='coerce').fillna(-1)\n",
    "# Convertir les types de données\n",
    "new_df['N°_DPE_remplacé'] = new_df['N°_DPE_remplacé'].astype(float)\n",
    "new_df['N°_DPE_immeuble_associé'] = new_df['N°_DPE_immeuble_associé'].astype(float)\n",
    "new_df['Invariant_fiscal_logement'] = new_df['Invariant_fiscal_logement'].astype(float)\n",
    "\n"
   ]
  },
  {
   "cell_type": "code",
   "execution_count": 148,
   "metadata": {},
   "outputs": [
    {
     "data": {
      "text/plain": [
       "Date_réception_DPE           0\n",
       "Modèle_DPE                   0\n",
       "N°_DPE_remplacé              0\n",
       "Date_fin_validité_DPE        0\n",
       "Version_DPE                  0\n",
       "N°_DPE_immeuble_associé      0\n",
       "Invariant_fiscal_logement    0\n",
       "Etiquette_DPE                0\n",
       "Etiquette_GES                0\n",
       "Type_bâtiment                0\n",
       "dtype: int64"
      ]
     },
     "execution_count": 148,
     "metadata": {},
     "output_type": "execute_result"
    }
   ],
   "source": [
    "new_df.isnull().sum()"
   ]
  },
  {
   "cell_type": "code",
   "execution_count": 149,
   "metadata": {},
   "outputs": [
    {
     "data": {
      "text/plain": [
       "(783116, 10)"
      ]
     },
     "execution_count": 149,
     "metadata": {},
     "output_type": "execute_result"
    }
   ],
   "source": [
    "new_df.shape"
   ]
  },
  {
   "cell_type": "code",
   "execution_count": 150,
   "metadata": {},
   "outputs": [
    {
     "data": {
      "text/plain": [
       "Date_réception_DPE            object\n",
       "Modèle_DPE                    object\n",
       "N°_DPE_remplacé              float64\n",
       "Date_fin_validité_DPE         object\n",
       "Version_DPE                  float64\n",
       "N°_DPE_immeuble_associé      float64\n",
       "Invariant_fiscal_logement    float64\n",
       "Etiquette_DPE                 object\n",
       "Etiquette_GES                 object\n",
       "Type_bâtiment                 object\n",
       "dtype: object"
      ]
     },
     "execution_count": 150,
     "metadata": {},
     "output_type": "execute_result"
    }
   ],
   "source": [
    "new_df.dtypes"
   ]
  },
  {
   "cell_type": "code",
   "execution_count": 152,
   "metadata": {},
   "outputs": [
    {
     "name": "stderr",
     "output_type": "stream",
     "text": [
      "C:\\Users\\DELL INSPIROON\\AppData\\Local\\Temp\\ipykernel_2052\\2746636827.py:8: SettingWithCopyWarning: \n",
      "A value is trying to be set on a copy of a slice from a DataFrame.\n",
      "Try using .loc[row_indexer,col_indexer] = value instead\n",
      "\n",
      "See the caveats in the documentation: https://pandas.pydata.org/pandas-docs/stable/user_guide/indexing.html#returning-a-view-versus-a-copy\n",
      "  new_df['Date_réception_DPE'] = pd.to_datetime(new_df['Date_réception_DPE'])\n",
      "C:\\Users\\DELL INSPIROON\\AppData\\Local\\Temp\\ipykernel_2052\\2746636827.py:9: SettingWithCopyWarning: \n",
      "A value is trying to be set on a copy of a slice from a DataFrame.\n",
      "Try using .loc[row_indexer,col_indexer] = value instead\n",
      "\n",
      "See the caveats in the documentation: https://pandas.pydata.org/pandas-docs/stable/user_guide/indexing.html#returning-a-view-versus-a-copy\n",
      "  new_df['Date_fin_validité_DPE'] = pd.to_datetime(new_df['Date_fin_validité_DPE'])\n",
      "C:\\Users\\DELL INSPIROON\\AppData\\Local\\Temp\\ipykernel_2052\\2746636827.py:12: SettingWithCopyWarning: \n",
      "A value is trying to be set on a copy of a slice from a DataFrame.\n",
      "Try using .loc[row_indexer,col_indexer] = value instead\n",
      "\n",
      "See the caveats in the documentation: https://pandas.pydata.org/pandas-docs/stable/user_guide/indexing.html#returning-a-view-versus-a-copy\n",
      "  new_df['Date_réception_DPE'] = (new_df['Date_réception_DPE'] - pd.Timestamp(\"1970-01-01\")) // pd.Timedelta('1D')\n",
      "C:\\Users\\DELL INSPIROON\\AppData\\Local\\Temp\\ipykernel_2052\\2746636827.py:13: SettingWithCopyWarning: \n",
      "A value is trying to be set on a copy of a slice from a DataFrame.\n",
      "Try using .loc[row_indexer,col_indexer] = value instead\n",
      "\n",
      "See the caveats in the documentation: https://pandas.pydata.org/pandas-docs/stable/user_guide/indexing.html#returning-a-view-versus-a-copy\n",
      "  new_df['Date_fin_validité_DPE'] = (new_df['Date_fin_validité_DPE'] - pd.Timestamp(\"1970-01-01\")) // pd.Timedelta('1D')\n"
     ]
    }
   ],
   "source": [
    "import pandas as pd\n",
    "from sklearn.model_selection import train_test_split\n",
    "from sklearn.tree import DecisionTreeClassifier\n",
    "from sklearn.preprocessing import OneHotEncoder\n",
    "from sklearn.compose import ColumnTransformer\n",
    "\n",
    "# Conversion des colonnes de dates en types de données datetime\n",
    "new_df['Date_réception_DPE'] = pd.to_datetime(new_df['Date_réception_DPE'])\n",
    "new_df['Date_fin_validité_DPE'] = pd.to_datetime(new_df['Date_fin_validité_DPE'])\n",
    "\n",
    "# Conversion des dates en nombres de jours écoulés depuis une date de référence\n",
    "new_df['Date_réception_DPE'] = (new_df['Date_réception_DPE'] - pd.Timestamp(\"1970-01-01\")) // pd.Timedelta('1D')\n",
    "new_df['Date_fin_validité_DPE'] = (new_df['Date_fin_validité_DPE'] - pd.Timestamp(\"1970-01-01\")) // pd.Timedelta('1D')\n",
    "\n",
    "# Sélection des colonnes catégorielles pour l'encodage one-hot\n",
    "categorical_columns = [\"Modèle_DPE\", \"Type_bâtiment\"]\n",
    "\n",
    "# Création d'un encodeur one-hot pour les colonnes catégorielles\n",
    "encoder = OneHotEncoder()\n",
    "\n",
    "# Création d'un ColumnTransformer pour appliquer l'encodage one-hot aux colonnes catégorielles\n",
    "column_transformer = ColumnTransformer(\n",
    "    transformers=[('onehot', encoder, categorical_columns)],\n",
    "    remainder='passthrough'\n",
    ")\n",
    "\n"
   ]
  },
  {
   "cell_type": "code",
   "execution_count": 153,
   "metadata": {},
   "outputs": [
    {
     "data": {
      "text/plain": [
       "Date_réception_DPE             int64\n",
       "Modèle_DPE                    object\n",
       "N°_DPE_remplacé              float64\n",
       "Date_fin_validité_DPE          int64\n",
       "Version_DPE                  float64\n",
       "N°_DPE_immeuble_associé      float64\n",
       "Invariant_fiscal_logement    float64\n",
       "Etiquette_DPE                 object\n",
       "Etiquette_GES                 object\n",
       "Type_bâtiment                 object\n",
       "dtype: object"
      ]
     },
     "execution_count": 153,
     "metadata": {},
     "output_type": "execute_result"
    }
   ],
   "source": [
    "new_df.dtypes"
   ]
  },
  {
   "cell_type": "code",
   "execution_count": 154,
   "metadata": {},
   "outputs": [
    {
     "name": "stdout",
     "output_type": "stream",
     "text": [
      "Accuracy: 0.7126494023904383\n"
     ]
    }
   ],
   "source": [
    "\n",
    "# Application du ColumnTransformer aux fonctionnalités pour obtenir les fonctionnalités transformées\n",
    "X = new_df.drop(columns=[\"Etiquette_DPE\", \"Etiquette_GES\"])  # Sélectionner les fonctionnalités sans les étiquettes\n",
    "X_encoded = column_transformer.fit_transform(X)\n",
    "\n",
    "# Séparation des données en ensembles d'entraînement et de test\n",
    "y = new_df[\"Etiquette_GES\"]  # Sélectionner la colonne des étiquettes\n",
    "X_train, X_test, y_train, y_test = train_test_split(X_encoded, y, test_size=0.2, random_state=42)\n",
    "\n",
    "# Création et entraînement du modèle DecisionTreeClassifier\n",
    "model = DecisionTreeClassifier()\n",
    "model.fit(X_train, y_train)\n",
    "\n",
    "# Évaluation du modèle\n",
    "accuracy = model.score(X_test, y_test)\n",
    "print(\"Accuracy:\", accuracy)\n"
   ]
  },
  {
   "cell_type": "code",
   "execution_count": 165,
   "metadata": {},
   "outputs": [
    {
     "name": "stdout",
     "output_type": "stream",
     "text": [
      "Classe prédite: C\n",
      "Vraie classe: C\n",
      "Le modèle a correctement prédit la classe de l'exemple.\n"
     ]
    }
   ],
   "source": [
    "# Sélectionner un exemple du dataset pour la prédiction (par exemple le premier exemple)\n",
    "example = X_encoded[0]  # Premier exemple\n",
    "\n",
    "# Prédire la classe de l'exemple\n",
    "predicted_class = model.predict([example])[0]  # Prédire la classe de l'exemple\n",
    "\n",
    "# Obtenir la vraie classe de l'exemple\n",
    "true_class = df[\"Etiquette_GES\"].iloc[0]  # Obtenir la vraie classe de l'exemple\n",
    "\n",
    "# Afficher la classe prédite\n",
    "print(\"Classe prédite:\", predicted_class)\n",
    "\n",
    "# Afficher la vraie classe\n",
    "print(\"Vraie classe:\", true_class)\n",
    "\n",
    "# Comparer la prédiction avec la vraie classe\n",
    "if predicted_class == true_class:\n",
    "    print(\"Le modèle a correctement prédit la classe de l'exemple.\")\n",
    "else:\n",
    "    print(\"Le modèle n'a pas correctement prédit la classe de l'exemple.\")\n"
   ]
  },
  {
   "cell_type": "code",
   "execution_count": null,
   "metadata": {},
   "outputs": [],
   "source": [
    "import mlflow.sklearn\n",
    "\n",
    "# Définir le nom de l'expérience MLflow\n",
    "mlflow.set_experiment(\"Nom_de_votre_expérience\")\n",
    "\n",
    "# Enregistrer le modèle dans MLflow\n",
    "with mlflow.start_run():\n",
    "    # Enregistrer les paramètres du modèle\n",
    "    mlflow.log_param(\"paramètre_1\", valeur_paramètre_1)\n",
    "    mlflow.log_param(\"paramètre_2\", valeur_paramètre_2)\n",
    "    # Enregistrer les métriques de performance\n",
    "    mlflow.log_metric(\"métrique_1\", valeur_métrique_1)\n",
    "    mlflow.log_metric(\"métrique_2\", valeur_métrique_2)\n",
    "    # Enregistrer le modèle\n",
    "    mlflow.sklearn.log_model(model, \"nom_du_modèle\")"
   ]
  },
  {
   "cell_type": "code",
   "execution_count": 167,
   "metadata": {},
   "outputs": [
    {
     "name": "stderr",
     "output_type": "stream",
     "text": [
      "2024/05/12 21:36:47 INFO mlflow.tracking.fluent: Experiment with name 'dpe_train_mlops' does not exist. Creating a new experiment.\n",
      "c:\\Users\\DELL INSPIROON\\AppData\\Local\\Programs\\Python\\Python39\\lib\\site-packages\\_distutils_hack\\__init__.py:26: UserWarning: Setuptools is replacing distutils.\n",
      "  warnings.warn(\"Setuptools is replacing distutils.\")\n"
     ]
    }
   ],
   "source": [
    "\n",
    "experiment_name = \"dpe_train_mlops\"\n",
    "\n",
    "# Adresse du serveur MLflow\n",
    "remote_server_uri = \"http://13.82.178.239:5001/\"\n",
    "\n",
    "# Configuration de l'adresse du serveur MLflow\n",
    "mlflow.set_tracking_uri(remote_server_uri)\n",
    "\n",
    "# Définir l'expérience MLflow\n",
    "mlflow.set_experiment(experiment_name)\n",
    "\n",
    "with mlflow.start_run():\n",
    "    # Enregistrer les paramètres du modèle\n",
    "    mlflow.log_param(\"random_state\", 42)\n",
    "    \n",
    "    # Enregistrer les métriques de performance\n",
    "    mlflow.log_metric(\"accuracy\", accuracy)\n",
    "    \n",
    "    # Enregistrer le modèle\n",
    "    mlflow.sklearn.log_model(model, \"decision_tree_model\")"
   ]
  },
  {
   "cell_type": "code",
   "execution_count": null,
   "metadata": {},
   "outputs": [],
   "source": []
  }
 ],
 "metadata": {
  "kernelspec": {
   "display_name": "Python 3",
   "language": "python",
   "name": "python3"
  },
  "language_info": {
   "codemirror_mode": {
    "name": "ipython",
    "version": 3
   },
   "file_extension": ".py",
   "mimetype": "text/x-python",
   "name": "python",
   "nbconvert_exporter": "python",
   "pygments_lexer": "ipython3",
   "version": "3.9.11"
  }
 },
 "nbformat": 4,
 "nbformat_minor": 2
}
